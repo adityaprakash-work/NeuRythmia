{
 "cells": [
  {
   "cell_type": "markdown",
   "metadata": {},
   "source": [
    "# **DEPENDENCIES**"
   ]
  },
  {
   "cell_type": "code",
   "execution_count": 4,
   "metadata": {},
   "outputs": [],
   "source": [
    "import numpy as np\n",
    "import neurythmia as nr"
   ]
  },
  {
   "cell_type": "code",
   "execution_count": 5,
   "metadata": {},
   "outputs": [
    {
     "name": "stdout",
     "output_type": "stream",
     "text": [
      "NR > Registered dataset epochs detected\n"
     ]
    }
   ],
   "source": [
    "D = nr.pipelines.NRCDataset(\n",
    "    \"C:\\workspace-a\\epochs\",\n",
    "    \"epochs\",\n",
    ")"
   ]
  },
  {
   "cell_type": "code",
   "execution_count": 14,
   "metadata": {},
   "outputs": [
    {
     "name": "stdout",
     "output_type": "stream",
     "text": [
      "NR > Connected to dataset epochs\n"
     ]
    }
   ],
   "source": [
    "RD = D.connect(\n",
    "    tag_combinations=[[\"Epilepsy\"], [\"Mimicker\"]],\n",
    "    batch_size=1,\n",
    "    shuffle_buffer_size=200,\n",
    "    process_chain=nr.transformations.ProcessChain(\n",
    "        connect_method=\"sequential_map_transforms\",\n",
    "        processes=[\n",
    "            nr.transformations.LoadFif,\n",
    "            nr.transformations.TimePleat(0, 10, overlap=2,sr=125),\n",
    "        ]\n",
    "    )\n",
    ")"
   ]
  }
 ],
 "metadata": {
  "kernelspec": {
   "display_name": "Python 3",
   "language": "python",
   "name": "python3"
  },
  "language_info": {
   "codemirror_mode": {
    "name": "ipython",
    "version": 3
   },
   "file_extension": ".py",
   "mimetype": "text/x-python",
   "name": "python",
   "nbconvert_exporter": "python",
   "pygments_lexer": "ipython3",
   "version": "3.11.3"
  }
 },
 "nbformat": 4,
 "nbformat_minor": 2
}
